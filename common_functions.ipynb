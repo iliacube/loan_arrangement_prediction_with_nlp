{
 "cells": [
  {
   "cell_type": "code",
   "execution_count": 1,
   "id": "6ab553d4",
   "metadata": {},
   "outputs": [],
   "source": [
    "def import_data(file_name_start, glob, pd, **kargs):\n",
    "    file_list = glob(f'{file_name_start}*.txt')\n",
    "    df_lst =[]\n",
    "    for file in file_list:\n",
    "        df_lst.append(pd.read_csv(file, **kargs))\n",
    "    return pd.concat(df_lst).reset_index(drop=True)\n",
    "\n",
    "def call_spacy_nlp(nlp, x):\n",
    "    return nlp(x)\n",
    "\n",
    "def build_tokens_list(doc):\n",
    "    return [token.text for token in doc]\n",
    "\n",
    "def build_lemmas_list(doc):\n",
    "    return [token.lemma_ for token in doc]\n",
    "\n",
    "def remove_not_alpha_list(doc):\n",
    "    return [token.lemma_ for token in doc if token.lemma_.isalpha()]\n",
    "\n",
    "def convert_list_to_string(x):\n",
    "    return ' '.join(x)\n",
    "\n",
    "\n",
    "def model_eval(model, X_train, y_train, X_test, y_test, accuracy_score, classification_report):\n",
    "    predictions = []\n",
    "    probs = []\n",
    "    \n",
    "\n",
    "    # fit data to model and predict probabilities\n",
    "    model.fit(X_train, y_train.values.ravel())\n",
    "    predictions = model.predict(X_test)\n",
    "    prob = model.predict_proba(X_test)\n",
    "    probs.append(prob[:, 1])        \n",
    "\n",
    "    accuracy = accuracy_score(y_test.values.ravel(), predictions)\n",
    "    report = classification_report(y_test.values.ravel(), predictions, labels=[0, 1], target_names=[\"0\", \"1\"], \\\n",
    "        output_dict=True)\n",
    "    prec_1 = report[\"1\"][\"precision\"]\n",
    "    rec_1 = report[\"1\"][\"recall\"]\n",
    "    f1_1 = report[\"1\"][\"f1-score\"]        \n",
    "    \n",
    "\n",
    "    return rec_1, prec_1, f1_1, accuracy"
   ]
  }
 ],
 "metadata": {
  "kernelspec": {
   "display_name": "venv",
   "language": "python",
   "name": "venv"
  },
  "language_info": {
   "codemirror_mode": {
    "name": "ipython",
    "version": 3
   },
   "file_extension": ".py",
   "mimetype": "text/x-python",
   "name": "python",
   "nbconvert_exporter": "python",
   "pygments_lexer": "ipython3",
   "version": "3.11.2"
  }
 },
 "nbformat": 4,
 "nbformat_minor": 5
}
